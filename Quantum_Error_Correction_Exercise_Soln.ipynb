{
 "cells": [
  {
   "cell_type": "markdown",
   "id": "1a11e181",
   "metadata": {},
   "source": [
    "Imagine that we encode the state |ψ⟩=α|0⟩+β|1⟩ using Shor's 9 qubit code, then an X error occurs on the 8th qubit of the encoded state |E(ψ)⟩.\n",
    "\n",
    "a) Write down the state following the error.<br>\n",
    "    1/2√2(α(|000⟩+|111⟩)(|000⟩+|111⟩)(|010⟩+|101⟩)+β(|000⟩−|111⟩)(|000⟩−|111⟩)(|010⟩−|101⟩))\n",
    "    <br>\n",
    "    \n",
    "\n",
    "# Answer to a)\n",
    "\n",
    "## Initial encoded state with qubit indexes (I will omit 1/2√2for simplicity):\n",
    "\n",
    "|ψ⟩=α(|0<sub>1</sub>0<sub>2</sub>0<sub>3</sub>⟩+|1<sub>1</sub>1<sub>2</sub>1<sub>3</sub>⟩)(|0<sub>4</sub>0<sub>5</sub>0<sub>6</sub>⟩+|1<sub>4</sub>1<sub>5</sub>1<sub>6</sub>⟩)(|0<sub>7</sub>0<sub>8</sub>0<sub>9</sub>⟩+|1<sub>7</sub>1<sub>8</sub>1<sub>9</sub>⟩)+β(|0<sub>1</sub>0<sub>2</sub>0<sub>3</sub>⟩−|1<sub>1</sub>1<sub>2</sub>1<sub>3</sub>⟩)(|0<sub>4</sub>0<sub>5</sub>0<sub>6</sub>⟩−|1<sub>4</sub>1<sub>5</sub>1<sub>6</sub>⟩)(|0<sub>7</sub>0<sub>8</sub>0<sub>9</sub>⟩−|1<sub>7</sub>1<sub>8</sub>1<sub>9</sub>⟩)\n",
    "\n",
    "## After applying X gate on 8th qubit (and after removing indexes):\n",
    "\n",
    "|ψ⟩=α(|000⟩+|111⟩)(|000⟩+|111⟩)(|010⟩+|101⟩)+β(|000⟩−|111⟩)(|000⟩−|111⟩)(|010⟩−|101⟩)\n",
    "\n",
    "\n",
    "b) We now decode the encoded state, starting by applying the bit flip code decoding algorithm. What are the syndromes returned by the measurements in the algorithm? Apparently the syndromes are **00**,**00**,**10**. How do I know what measurements to do?\n",
    "\n",
    "# Answer to b)\n",
    "\n",
    "One should always do the same operator measurements no matter what error have been acquired. The operators for detecting X\n",
    "error are Z<sub>1</sub>Z<sub>2</sub>, Z<sub>2</sub>Z<sub>3</sub>, Z<sub>4</sub>Z<sub>5</sub>, Z<sub>5</sub>Z<sub>6</sub>, Z<sub>7</sub>Z<sub>8</sub>, Z<sub>8</sub>Z<sub>9</sub>. After measuring all these 6 operators one obtains for each of them either __0__ or __1__. __00__,__00__,__10__ syndrome measurement is wrong (I guess there is a typo in the exercise). The true syndrome is __00__,__00__,__11__ and that means only Z<sub>7</sub>Z<sub>8</sub> and Z<sub>8</sub>Z<sub>9</sub> operator measurements yielded __1__ indicating that the X error has been acquired on the 8 qubit. One can apply a X gate to the same (errored) 8th qubit in order to correct the error.\n",
    "\n",
    "c) Now imagine that |E(ψ)⟩ is affected by two X errors, on the 7th and 8th qubits. What are the syndromes returned this time? What state does the decoding algorithm output?\n",
    "    Now the syndromes are **00**,**00**,**01**. The decoding algorithm thus thinks there has been an X error on the 9th qubit. So it \"corrects\" this by applying an X operation on this qubit, to give the state 1/2√2(α(|000⟩+|111⟩)(|000⟩+|111⟩)(|000⟩+|111⟩)−β(|000⟩−|111⟩)(|000⟩−|111⟩)(|000⟩−|111⟩)). Note that β now has a minus sign in front of it. After the bit decoding, we are left with α|+++⟩−β|−−−⟩, which is then decoded to α|0⟩−β|1⟩.\n",
    "Again how would I know what measurements to take? Also how could I know a priori that I have errors on the 7th and 8th qubits? Why do we apply a X operation to the 9th qubit?\n",
    "\n",
    "# Answer to c)\n",
    "\n",
    "With this error-correcting code, we always assume that we have only one qubit error. If there are two qubit errors then this technique with its syndrome may indicate to do something that will not correct the error. In this example, **00**,**00**,**01** indicates (wrongly, because our assumption of one qubit error is not true for this error example) that 9th qubit has got an error."
   ]
  }
 ],
 "metadata": {
  "kernelspec": {
   "display_name": "Python 3 (ipykernel)",
   "language": "python",
   "name": "python3"
  },
  "language_info": {
   "codemirror_mode": {
    "name": "ipython",
    "version": 3
   },
   "file_extension": ".py",
   "mimetype": "text/x-python",
   "name": "python",
   "nbconvert_exporter": "python",
   "pygments_lexer": "ipython3",
   "version": "3.9.6"
  }
 },
 "nbformat": 4,
 "nbformat_minor": 5
}

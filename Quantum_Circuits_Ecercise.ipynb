{
 "cells": [
  {
   "cell_type": "markdown",
   "id": "a262bc09",
   "metadata": {},
   "source": [
    "1. Which quantum gate acts on a single qubit and would most be similar to a traditional NOT gate?\n",
    "2. In a CNOT gate, you create a(n) _____ with two qubits.\n",
    "\n",
    "    a) Superposition\n",
    "\n",
    "    b) Entangled state\n",
    "\n",
    "    c) Bloch\n",
    "\n",
    "    d) Hadamard\n",
    "3. In a quantum circuit, which gate is used to place a qubit into superposition?\n",
    "\n",
    "    a) Hadamard\n",
    "\n",
    "    b) X-gate\n",
    "\n",
    "    c) Bloch\n",
    "\n",
    "    d) CNOT"
   ]
  },
  {
   "cell_type": "code",
   "execution_count": 1,
   "id": "417d4e4e",
   "metadata": {},
   "outputs": [],
   "source": [
    "from qiskit import QuantumCircuit, assemble, Aer\n",
    "from math import pi, sqrt\n",
    "from qiskit.visualization import plot_bloch_multivector, plot_histogram\n",
    "sim = Aer.get_backend('aer_simulator')"
   ]
  },
  {
   "cell_type": "code",
   "execution_count": 3,
   "id": "579b2853",
   "metadata": {},
   "outputs": [],
   "source": [
    "qc = QuantumCircuit(1)"
   ]
  },
  {
   "cell_type": "code",
   "execution_count": 4,
   "id": "9a5230c8",
   "metadata": {},
   "outputs": [],
   "source": [
    "# Implement an X-gate on a |0> qubit\n",
    "\n"
   ]
  },
  {
   "cell_type": "code",
   "execution_count": 5,
   "id": "0c5c797a",
   "metadata": {},
   "outputs": [],
   "source": [
    "# Let's see the result\n",
    "\n"
   ]
  },
  {
   "cell_type": "code",
   "execution_count": 6,
   "id": "ad65ee21",
   "metadata": {},
   "outputs": [],
   "source": [
    "# implement Y and Z gates on the |0> qubit\n",
    "\n"
   ]
  },
  {
   "cell_type": "code",
   "execution_count": 7,
   "id": "10bb3eea",
   "metadata": {},
   "outputs": [],
   "source": [
    "# implement H gates on the |0> qubit\n",
    "\n"
   ]
  },
  {
   "cell_type": "code",
   "execution_count": 9,
   "id": "dc4b4099",
   "metadata": {},
   "outputs": [],
   "source": [
    "# Do a simulation and plot\n",
    "\n"
   ]
  },
  {
   "cell_type": "code",
   "execution_count": 10,
   "id": "1708e8c5",
   "metadata": {},
   "outputs": [],
   "source": [
    "# implement P gate on the |0> qubit\n",
    "\n"
   ]
  },
  {
   "cell_type": "code",
   "execution_count": 11,
   "id": "e229f73b",
   "metadata": {},
   "outputs": [],
   "source": [
    "# Implement S and SDG gates\n",
    "\n"
   ]
  },
  {
   "cell_type": "code",
   "execution_count": 12,
   "id": "810f4593",
   "metadata": {},
   "outputs": [],
   "source": [
    "# Implement T and TDG gates\n",
    "\n"
   ]
  },
  {
   "cell_type": "code",
   "execution_count": 13,
   "id": "afe8a549",
   "metadata": {},
   "outputs": [],
   "source": [
    "# Implement U-gate transform a |0> to |+> state\n",
    "\n"
   ]
  },
  {
   "cell_type": "code",
   "execution_count": 14,
   "id": "e5ff7a85",
   "metadata": {},
   "outputs": [],
   "source": [
    "# Show the statevector to see the result\n",
    "\n"
   ]
  },
  {
   "cell_type": "markdown",
   "id": "3a1b1f35",
   "metadata": {},
   "source": [
    "<a href = \"Quantum_Circuits_Ecercise_Soln.ipynb\" target = \"_blank\">Solution</a>"
   ]
  }
 ],
 "metadata": {
  "kernelspec": {
   "display_name": "Python 3 (ipykernel)",
   "language": "python",
   "name": "python3"
  },
  "language_info": {
   "codemirror_mode": {
    "name": "ipython",
    "version": 3
   },
   "file_extension": ".py",
   "mimetype": "text/x-python",
   "name": "python",
   "nbconvert_exporter": "python",
   "pygments_lexer": "ipython3",
   "version": "3.9.6"
  }
 },
 "nbformat": 4,
 "nbformat_minor": 5
}

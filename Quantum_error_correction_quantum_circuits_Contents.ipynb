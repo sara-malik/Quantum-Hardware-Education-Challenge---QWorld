{
 "cells": [
  {
   "cell_type": "markdown",
   "id": "3555749b",
   "metadata": {},
   "source": [
    "# Quantum Error Correction\n",
    "\n",
    "<a href=\"Quantum_Error_Correction.pdf\" target=\"_blank\">Quantum Error Correction Guide</a>\n",
    "\n",
    "## Further Reading\n",
    "<a href=\"QECC-tutorial-long.pdf\" target=\"_blank\">Slides</a>\n",
    "<a href=\"arxiv_sub_v2_errors.pdf\" target=\"_blank\">Comprehensive Article</a>\n",
    "\n",
    "## Exercise\n",
    "<a href = \"Quantum_Error_Correction_Exercise.ipynb\" target=\"_blank\">Exercise</a>"
   ]
  },
  {
   "cell_type": "markdown",
   "id": "f949a60d",
   "metadata": {},
   "source": [
    "# Quantum Circuits\n",
    "<a href=\"Quantum_Circuits.pdf\" target=\"_blank\">Quantum Circuits Guide</a>\n",
    "\n",
    "## Exercise\n",
    "\n",
    "<a href = \"Quantum_Circuits_Ecercise.ipynb\" target=\"_blank\">Exercise</a>"
   ]
  }
 ],
 "metadata": {
  "kernelspec": {
   "display_name": "Python 3 (ipykernel)",
   "language": "python",
   "name": "python3"
  },
  "language_info": {
   "codemirror_mode": {
    "name": "ipython",
    "version": 3
   },
   "file_extension": ".py",
   "mimetype": "text/x-python",
   "name": "python",
   "nbconvert_exporter": "python",
   "pygments_lexer": "ipython3",
   "version": "3.9.6"
  }
 },
 "nbformat": 4,
 "nbformat_minor": 5
}

{
 "cells": [
  {
   "cell_type": "markdown",
   "id": "591b7902",
   "metadata": {},
   "source": [
    "Imagine that we encode the state |ψ⟩=α|0⟩+β|1⟩ using Shor's 9 qubit code, then an X error occurs on the 8th qubit of the encoded state |E(ψ)⟩.\n",
    "\n",
    "a) Write down the state following the error.<br>\n",
    "    1/2√2(α(|000⟩+|111⟩)(|000⟩+|111⟩)(|010⟩+|101⟩)+β(|000⟩−|111⟩)(|000⟩−|111⟩)(|010⟩−|101⟩))\n",
    "\n",
    "b) We now decode the encoded state, starting by applying the bit flip code decoding algorithm. What are the syndromes returned by the measurements in the algorithm? Apparently the syndromes are **00**,**00**,**10**. How do I know what measurements to do?\n",
    "\n",
    "c) Now imagine that |E(ψ)⟩ is affected by two X errors, on the 7th and 8th qubits. What are the syndromes returned this time? What state does the decoding algorithm output?\n",
    "    Now the syndromes are **00**,**00**,**01**. The decoding algorithm thus thinks there has been an X error on the 9th qubit. So it \"corrects\" this by applying an X operation on this qubit, to give the state 1/2√2(α(|000⟩+|111⟩)(|000⟩+|111⟩)(|000⟩+|111⟩)−β(|000⟩−|111⟩)(|000⟩−|111⟩)(|000⟩−|111⟩)). Note that β now has a minus sign in front of it. After the bit decoding, we are left with α|+++⟩−β|−−−⟩, which is then decoded to α|0⟩−β|1⟩.\n",
    "Again how would I know what measurements to take? Also how could I know a priori that I have errors on the 7th and 8th qubits? Why do we apply a X operation to the 9th qubit?\n",
    "\n",
    "<a href=\"Quantum_Error_Correction_Exercise_Soln.ipynb\" target=\"_blank\">Solution</a>\n"
   ]
  }
 ],
 "metadata": {
  "kernelspec": {
   "display_name": "Python 3 (ipykernel)",
   "language": "python",
   "name": "python3"
  },
  "language_info": {
   "codemirror_mode": {
    "name": "ipython",
    "version": 3
   },
   "file_extension": ".py",
   "mimetype": "text/x-python",
   "name": "python",
   "nbconvert_exporter": "python",
   "pygments_lexer": "ipython3",
   "version": "3.9.6"
  }
 },
 "nbformat": 4,
 "nbformat_minor": 5
}
